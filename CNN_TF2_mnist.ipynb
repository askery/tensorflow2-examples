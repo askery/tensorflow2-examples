{
 "cells": [
  {
   "cell_type": "code",
   "execution_count": null,
   "metadata": {},
   "outputs": [],
   "source": [
    "\"\"\" Simple CNN implementation with TensorFlow 2.0 for MNIST dataset.\n",
    "Author: Askery Canabarro \n",
    "Tested with TF 2.3.0\n",
    "\"\"\"\n",
    "\n",
    "# STEP 0: Import TensorFlow and dependencies/libraries.\n",
    "import numpy as np\n",
    "import pandas as pd\n",
    "import random\n",
    "import matplotlib.pyplot as plt\n",
    "import tensorflow as tf\n",
    "from tensorflow.keras.layers import Input, Conv2D, Dense, Flatten, Dropout, MaxPooling2D\n",
    "from tensorflow.keras.models import Model\n",
    "print (\"TF version: \", tf.__version__)"
   ]
  },
  {
   "cell_type": "code",
   "execution_count": null,
   "metadata": {},
   "outputs": [],
   "source": [
    "# STEP 1: Load the MNIST dataset.\n",
    "(X_train,y_train),(X_test,y_test) =tf.keras.datasets.mnist.load_data()"
   ]
  },
  {
   "cell_type": "code",
   "execution_count": null,
   "metadata": {},
   "outputs": [],
   "source": [
    "# STEP 1a: Inspect type and shapes.\n",
    "print (\"Data type     \", type(X_train)) # numpy array. Nice!\n",
    "print (\"Xtrain shape: \", X_train.shape) # 60000 examples, 28 x 28 = 784 shape\n",
    "print (\"Xtest shape:  \", X_test.shape)  # 10000 examples, 28 x 28 = 784 shape\n",
    "print (\"ytrain shape: \", y_train.shape)\n",
    "print (\"ytest  shape: \", y_test.shape)"
   ]
  },
  {
   "cell_type": "code",
   "execution_count": null,
   "metadata": {},
   "outputs": [],
   "source": [
    "# STEP 1b: EDA\n",
    "# print(X_train[0]), print(y_train[0])  # check raw data\n",
    "\n",
    "plt.imshow(X_train[0], cmap='gray')     # see an example of the data\n",
    "plt.axis('off')\n",
    "plt.show()"
   ]
  },
  {
   "cell_type": "code",
   "execution_count": null,
   "metadata": {},
   "outputs": [],
   "source": [
    "# STEP 1c: Preprocessing. \n",
    "\n",
    "# Rescale the images pixels from range [0,255] to range [0.0,1.0].\n",
    "X_train = X_train/255\n",
    "X_test  = X_test/255\n",
    "\n",
    "# TensorFlow likes cube of data!!!\n",
    "X_train = X_train.reshape((-1,28,28,1)) # 60000 instances with 28x28x1 shape\n",
    "X_test  = X_test.reshape((-1,28,28,1))  # 10000 instances with 28x28x1 shape"
   ]
  },
  {
   "cell_type": "code",
   "execution_count": null,
   "metadata": {},
   "outputs": [],
   "source": [
    "# STEP 2: build the model (functional API)\n",
    "K = len (set(y_train) )             # number of classes\n",
    "i = Input(shape = X_train[0].shape) # 28x28x1: all inputs have the same shape, get the shape of the first one.\n",
    "x = Conv2D(  32, [3,3], activation='relu')(i)\n",
    "x = Conv2D(  64, [3,3], activation='relu')(x)\n",
    "x = MaxPooling2D(pool_size=(2, 2))(x)\n",
    "x = Dropout(0.25)(x)\n",
    "x = Flatten()(x)\n",
    "x = Dense(128,activation='relu')(x)\n",
    "x = Dropout(0.5)(x)\n",
    "x = Dense(K,activation='softmax')(x)\n",
    "model = Model(i,x)"
   ]
  },
  {
   "cell_type": "code",
   "execution_count": null,
   "metadata": {},
   "outputs": [],
   "source": [
    "# STEP 2a: Check model \n",
    "print(model.summary())"
   ]
  },
  {
   "cell_type": "code",
   "execution_count": null,
   "metadata": {},
   "outputs": [],
   "source": [
    "# STEP 2b: Optimization, loss and metrics criteria.\n",
    "opt  = \"adam\"\n",
    "cost = \"sparse_categorical_crossentropy\"\n",
    "model.compile(optimizer=opt,\n",
    "                   loss=cost,\n",
    "                metrics=['accuracy'])"
   ]
  },
  {
   "cell_type": "code",
   "execution_count": null,
   "metadata": {},
   "outputs": [],
   "source": [
    "# STEP 3: Train the model.\n",
    "r = model.fit(X_train,y_train, \n",
    "          validation_data=(X_test,y_test), \n",
    "          epochs=10)"
   ]
  },
  {
   "cell_type": "code",
   "execution_count": null,
   "metadata": {},
   "outputs": [],
   "source": [
    "# STEP 3a: Check loss and accuracy in function of epochs\n",
    "# Loss.\n",
    "plt.plot(r.history['loss'], label ='train loss')\n",
    "plt.plot(r.history['val_loss'], label ='val loss')\n",
    "plt.xlabel('epoch')\n",
    "plt.ylabel('loss')\n",
    "plt.legend()\n",
    "plt.show()"
   ]
  },
  {
   "cell_type": "code",
   "execution_count": null,
   "metadata": {},
   "outputs": [],
   "source": [
    "# Accuracy.\n",
    "plt.plot(r.history['accuracy'], label ='train acc')\n",
    "plt.plot(r.history['val_accuracy'], label ='val acc')\n",
    "plt.xlabel('epoch')\n",
    "plt.ylabel('accuracy')\n",
    "plt.legend()\n",
    "plt.show()"
   ]
  },
  {
   "cell_type": "code",
   "execution_count": null,
   "metadata": {},
   "outputs": [],
   "source": [
    "# STEP 4: Evaluate your model (on the test set).\n",
    "print(\"Test acc:\", model.evaluate(X_test,y_test))"
   ]
  },
  {
   "cell_type": "code",
   "execution_count": null,
   "metadata": {},
   "outputs": [],
   "source": [
    "# STEP 4a: Deeper evaluate your model.\n",
    "from sklearn.metrics import confusion_matrix, plot_confusion_matrix\n",
    "clas   = list(map(str,range(0,10)))\n",
    "preds  = model.predict(X_test)\n",
    "P      = np.array ( list (map(np.argmax, preds)) )\n",
    "cm     = confusion_matrix(P,y_test)\n",
    "df_cm  = pd.DataFrame(cm, index = clas, columns = clas, dtype='int32')\n",
    "\n",
    "import seaborn as sn\n",
    "plt.figure(figsize=(9,7))\n",
    "sn.set(font_scale=1.4) \n",
    "sn.heatmap(df_cm, annot=True, annot_kws={\"size\": 10}) \n",
    "plt.show()"
   ]
  },
  {
   "cell_type": "code",
   "execution_count": null,
   "metadata": {},
   "outputs": [],
   "source": [
    "# STEP 4b: even deeper evaluation. Check misclassification example. Is it acceptable?\n",
    "ind_err = np.array ( np.where(P != y_test) ).flatten() # getting indices where prediction differs from actual class\n",
    "ind     = np.random.choice(ind_err)\n",
    "plt.imshow(X_test[ind].reshape((28,28)), cmap = \"gray\")\n",
    "plt.title (\"Pred: \" + str(clas[P[ind]]) + \", True: \" + str(clas[y_test[ind]]))\n",
    "plt.grid(False)\n",
    "plt.show()"
   ]
  }
 ],
 "metadata": {
  "kernelspec": {
   "display_name": "Python 3",
   "language": "python",
   "name": "python3"
  },
  "language_info": {
   "codemirror_mode": {
    "name": "ipython",
    "version": 3
   },
   "file_extension": ".py",
   "mimetype": "text/x-python",
   "name": "python",
   "nbconvert_exporter": "python",
   "pygments_lexer": "ipython3",
   "version": "3.6.9"
  }
 },
 "nbformat": 4,
 "nbformat_minor": 4
}
