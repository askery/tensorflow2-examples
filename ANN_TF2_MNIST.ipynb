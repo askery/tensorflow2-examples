{
 "cells": [
  {
   "cell_type": "code",
   "execution_count": 20,
   "metadata": {},
   "outputs": [
    {
     "name": "stdout",
     "output_type": "stream",
     "text": [
      "2.3.0\n"
     ]
    }
   ],
   "source": [
    "\"\"\" Simple Artificial Neural Network (Multi-Layer Perceptron - MLP) \n",
    "implementation with TensorFlow 2.0 for MNIST dataset.\n",
    "Author: Askery Canabarro \n",
    "Tested with TF 2.3.0\n",
    "\"\"\"\n",
    "# STEP 0: Import TensorFlow and dependencies/libraries.\n",
    "import tensorflow as tf\n",
    "import numpy as np\n",
    "import itertools\n",
    "import matplotlib.pyplot as plt\n",
    "from sklearn.metrics import confusion_matrix, plot_confusion_matrix\n",
    "print(tf.__version__)"
   ]
  },
  {
   "cell_type": "code",
   "execution_count": 3,
   "metadata": {
    "colab": {
     "base_uri": "https://localhost:8080/"
    },
    "id": "1J1kPjvrazt6",
    "outputId": "ab81bf79-8a53-4879-cd94-f73443a8e373"
   },
   "outputs": [],
   "source": [
    "# STEP 1: Load the MNIST dataset.\n",
    "(X_train, y_train), (X_test, y_test) = tf.keras.datasets.mnist.load_data()"
   ]
  },
  {
   "cell_type": "code",
   "execution_count": 4,
   "metadata": {},
   "outputs": [
    {
     "name": "stdout",
     "output_type": "stream",
     "text": [
      "Data type      <class 'numpy.ndarray'>\n",
      "Xtrain shape:  (60000, 28, 28)\n",
      "Xtest shape:   (10000, 28, 28)\n",
      "ytrain shape:  (60000,)\n",
      "ytest  shape:  (10000,)\n"
     ]
    }
   ],
   "source": [
    "# STEP 1a: Inspect type and shapes.\n",
    "print (\"Data type     \", type(X_train)) # numpy array. Nice!\n",
    "print (\"Xtrain shape: \", X_train.shape) # 60000 examples, 28 x 28 = 784 shape\n",
    "print (\"Xtest shape:  \", X_test.shape)  # 10000 examples, 28 x 28 = 784 shape\n",
    "print (\"ytrain shape: \", y_train.shape)\n",
    "print (\"ytest  shape: \", y_test.shape)"
   ]
  },
  {
   "cell_type": "code",
   "execution_count": 5,
   "metadata": {},
   "outputs": [
    {
     "data": {
      "image/png": "[encoded data removed]",
      "text/plain": [
       "<Figure size 432x288 with 1 Axes>"
      ]
     },
     "metadata": {
      "needs_background": "light"
     },
     "output_type": "display_data"
    }
   ],
   "source": [
    "# STEP 1b: Simple EDA.\n",
    "# print(X_train[0]), print(y_train[0])  # check raw data\n",
    "\n",
    "plt.imshow(X_train[1], cmap='gray')     # see an example of the data\n",
    "plt.axis('off')\n",
    "plt.show()"
   ]
  },
  {
   "cell_type": "code",
   "execution_count": 6,
   "metadata": {
    "id": "VEHJi0xXa2ar"
   },
   "outputs": [],
   "source": [
    "# STEP 2: build the model (Sequential API)\n",
    "model = tf.keras.models.Sequential([\n",
    "  tf.keras.layers.Flatten(input_shape   =(28, 28)),\n",
    "  tf.keras.layers.Dense(128, activation ='relu'),\n",
    "  tf.keras.layers.Dropout(0.2),\n",
    "  tf.keras.layers.Dense(10, activation  ='softmax')\n",
    "])"
   ]
  },
  {
   "cell_type": "code",
   "execution_count": 7,
   "metadata": {},
   "outputs": [
    {
     "name": "stdout",
     "output_type": "stream",
     "text": [
      "Model: \"sequential\"\n",
      "_________________________________________________________________\n",
      "Layer (type)                 Output Shape              Param #   \n",
      "=================================================================\n",
      "flatten (Flatten)            (None, 784)               0         \n",
      "_________________________________________________________________\n",
      "dense (Dense)                (None, 128)               100480    \n",
      "_________________________________________________________________\n",
      "dropout (Dropout)            (None, 128)               0         \n",
      "_________________________________________________________________\n",
      "dense_1 (Dense)              (None, 10)                1290      \n",
      "=================================================================\n",
      "Total params: 101,770\n",
      "Trainable params: 101,770\n",
      "Non-trainable params: 0\n",
      "_________________________________________________________________\n",
      "None\n"
     ]
    }
   ],
   "source": [
    "# STEP 2a: Check model.\n",
    "print(model.summary())"
   ]
  },
  {
   "cell_type": "code",
   "execution_count": 8,
   "metadata": {
    "id": "hdXbXw92a9BA"
   },
   "outputs": [],
   "source": [
    "# STEP 2b: Optimization, loss and metrics criteria.\n",
    "model.compile(optimizer='adam',\n",
    "              loss='sparse_categorical_crossentropy',\n",
    "              metrics=['accuracy'])"
   ]
  },
  {
   "cell_type": "code",
   "execution_count": 9,
   "metadata": {
    "colab": {
     "base_uri": "https://localhost:8080/",
     "height": 462
    },
    "id": "53vcyL3abEMk",
    "outputId": "d700a0df-9645-4704-e46d-135553166fd1"
   },
   "outputs": [
    {
     "name": "stdout",
     "output_type": "stream",
     "text": [
      "Epoch 1/20\n",
      "WARNING:tensorflow:AutoGraph could not transform <function Model.make_train_function.<locals>.train_function at 0x7f77444a0510> and will run it as-is.\n",
      "Please report this to the TensorFlow team. When filing the bug, set the verbosity to 10 (on Linux, `export AUTOGRAPH_VERBOSITY=10`) and attach the full output.\n",
      "Cause: 'arguments' object has no attribute 'posonlyargs'\n",
      "To silence this warning, decorate the function with @tf.autograph.experimental.do_not_convert\n",
      "WARNING: AutoGraph could not transform <function Model.make_train_function.<locals>.train_function at 0x7f77444a0510> and will run it as-is.\n",
      "Please report this to the TensorFlow team. When filing the bug, set the verbosity to 10 (on Linux, `export AUTOGRAPH_VERBOSITY=10`) and attach the full output.\n",
      "Cause: 'arguments' object has no attribute 'posonlyargs'\n",
      "To silence this warning, decorate the function with @tf.autograph.experimental.do_not_convert\n",
      "1859/1875 [============================>.] - ETA: 0s - loss: 2.4843 - accuracy: 0.7667WARNING:tensorflow:AutoGraph could not transform <function Model.make_test_function.<locals>.test_function at 0x7f7744336a60> and will run it as-is.\n",
      "Please report this to the TensorFlow team. When filing the bug, set the verbosity to 10 (on Linux, `export AUTOGRAPH_VERBOSITY=10`) and attach the full output.\n",
      "Cause: 'arguments' object has no attribute 'posonlyargs'\n",
      "To silence this warning, decorate the function with @tf.autograph.experimental.do_not_convert\n",
      "WARNING: AutoGraph could not transform <function Model.make_test_function.<locals>.test_function at 0x7f7744336a60> and will run it as-is.\n",
      "Please report this to the TensorFlow team. When filing the bug, set the verbosity to 10 (on Linux, `export AUTOGRAPH_VERBOSITY=10`) and attach the full output.\n",
      "Cause: 'arguments' object has no attribute 'posonlyargs'\n",
      "To silence this warning, decorate the function with @tf.autograph.experimental.do_not_convert\n",
      "1875/1875 [==============================] - 8s 4ms/step - loss: 2.4707 - accuracy: 0.7673 - val_loss: 0.5001 - val_accuracy: 0.8798\n",
      "Epoch 2/20\n",
      "1875/1875 [==============================] - 7s 4ms/step - loss: 0.5639 - accuracy: 0.8498 - val_loss: 0.4002 - val_accuracy: 0.9035\n",
      "Epoch 3/20\n",
      "1875/1875 [==============================] - 6s 3ms/step - loss: 0.4583 - accuracy: 0.8807 - val_loss: 0.3274 - val_accuracy: 0.9203\n",
      "Epoch 4/20\n",
      "1875/1875 [==============================] - 6s 3ms/step - loss: 0.4171 - accuracy: 0.8920 - val_loss: 0.2849 - val_accuracy: 0.9401\n",
      "Epoch 5/20\n",
      "1875/1875 [==============================] - 7s 4ms/step - loss: 0.3916 - accuracy: 0.9017 - val_loss: 0.2779 - val_accuracy: 0.9350\n",
      "Epoch 6/20\n",
      "1875/1875 [==============================] - 7s 4ms/step - loss: 0.3663 - accuracy: 0.9073 - val_loss: 0.2902 - val_accuracy: 0.9406\n",
      "Epoch 7/20\n",
      "1875/1875 [==============================] - 6s 3ms/step - loss: 0.3490 - accuracy: 0.9111 - val_loss: 0.3192 - val_accuracy: 0.9393\n",
      "Epoch 8/20\n",
      "1875/1875 [==============================] - 6s 3ms/step - loss: 0.3344 - accuracy: 0.9151 - val_loss: 0.3111 - val_accuracy: 0.9385\n",
      "Epoch 9/20\n",
      "1875/1875 [==============================] - 5s 3ms/step - loss: 0.3347 - accuracy: 0.9175 - val_loss: 0.2949 - val_accuracy: 0.9459\n",
      "Epoch 10/20\n",
      "1875/1875 [==============================] - 7s 4ms/step - loss: 0.3282 - accuracy: 0.9203 - val_loss: 0.3037 - val_accuracy: 0.9405\n",
      "Epoch 11/20\n",
      "1875/1875 [==============================] - 5s 3ms/step - loss: 0.3255 - accuracy: 0.9213 - val_loss: 0.3420 - val_accuracy: 0.9463\n",
      "Epoch 12/20\n",
      "1875/1875 [==============================] - 6s 3ms/step - loss: 0.3176 - accuracy: 0.9222 - val_loss: 0.3132 - val_accuracy: 0.9468\n",
      "Epoch 13/20\n",
      "1875/1875 [==============================] - 6s 3ms/step - loss: 0.3106 - accuracy: 0.9237 - val_loss: 0.3162 - val_accuracy: 0.9397\n",
      "Epoch 14/20\n",
      "1875/1875 [==============================] - 6s 3ms/step - loss: 0.2942 - accuracy: 0.9279 - val_loss: 0.3027 - val_accuracy: 0.9481\n",
      "Epoch 15/20\n",
      "1875/1875 [==============================] - 6s 3ms/step - loss: 0.3129 - accuracy: 0.9253 - val_loss: 0.3049 - val_accuracy: 0.9462\n",
      "Epoch 16/20\n",
      "1875/1875 [==============================] - 6s 3ms/step - loss: 0.2967 - accuracy: 0.9275 - val_loss: 0.3248 - val_accuracy: 0.9482\n",
      "Epoch 17/20\n",
      "1875/1875 [==============================] - 6s 3ms/step - loss: 0.3043 - accuracy: 0.9270 - val_loss: 0.3160 - val_accuracy: 0.9490\n",
      "Epoch 18/20\n",
      "1875/1875 [==============================] - 6s 3ms/step - loss: 0.2996 - accuracy: 0.9288 - val_loss: 0.2869 - val_accuracy: 0.9543\n",
      "Epoch 19/20\n",
      "1875/1875 [==============================] - 6s 3ms/step - loss: 0.2939 - accuracy: 0.9308 - val_loss: 0.3233 - val_accuracy: 0.9514\n",
      "Epoch 20/20\n",
      "1875/1875 [==============================] - 5s 3ms/step - loss: 0.2860 - accuracy: 0.9308 - val_loss: 0.3287 - val_accuracy: 0.9401\n"
     ]
    }
   ],
   "source": [
    "# STEP 3: Train the model.\n",
    "r = model.fit(X_train, y_train, validation_data=(X_test, y_test), epochs=20)"
   ]
  },
  {
   "cell_type": "code",
   "execution_count": 10,
   "metadata": {
    "colab": {
     "base_uri": "https://localhost:8080/",
     "height": 286
    },
    "id": "YmuEUz_abG2G",
    "outputId": "6b908e7b-f360-491c-8cc3-2154624de92c"
   },
   "outputs": [
    {
     "data": {
      "text/plain": [
       "<matplotlib.legend.Legend at 0x7f7744246898>"
      ]
     },
     "execution_count": 10,
     "metadata": {},
     "output_type": "execute_result"
    },
    {
     "data": {
      "image/png": "[encoded data removed]",
      "text/plain": [
       "<Figure size 432x288 with 1 Axes>"
      ]
     },
     "metadata": {
      "needs_background": "light"
     },
     "output_type": "display_data"
    }
   ],
   "source": [
    "# STEP 3a: Check loss and accuracy in function of epochs\n",
    "# Loss.\n",
    "plt.plot(r.history['loss'], label='loss')\n",
    "plt.plot(r.history['val_loss'], label='val_loss')\n",
    "plt.legend()"
   ]
  },
  {
   "cell_type": "code",
   "execution_count": 11,
   "metadata": {
    "colab": {
     "base_uri": "https://localhost:8080/",
     "height": 286
    },
    "id": "OZ_O_sQwbPpi",
    "outputId": "cb65cab6-cafc-4537-aa31-778c812ec155"
   },
   "outputs": [
    {
     "data": {
      "text/plain": [
       "<matplotlib.legend.Legend at 0x7f77441b35f8>"
      ]
     },
     "execution_count": 11,
     "metadata": {},
     "output_type": "execute_result"
    },
    {
     "data": {
      "image/png": "[encoded data removed]",
      "text/plain": [
       "<Figure size 432x288 with 1 Axes>"
      ]
     },
     "metadata": {
      "needs_background": "light"
     },
     "output_type": "display_data"
    }
   ],
   "source": [
    "# Accuracy.\n",
    "plt.plot(r.history['accuracy'], label='acc')\n",
    "plt.plot(r.history['val_accuracy'], label='val_acc')\n",
    "plt.legend()"
   ]
  },
  {
   "cell_type": "code",
   "execution_count": 13,
   "metadata": {
    "colab": {
     "base_uri": "https://localhost:8080/",
     "height": 51
    },
    "id": "fKA7MzMMbS4f",
    "outputId": "ee551cd5-68b6-427e-ef6c-d83bb295ee90"
   },
   "outputs": [
    {
     "name": "stdout",
     "output_type": "stream",
     "text": [
      "313/313 [==============================] - 1s 2ms/step - loss: 0.3287 - accuracy: 0.9401\n",
      "[0.32870692014694214, 0.9401000142097473]\n"
     ]
    }
   ],
   "source": [
    "# STEP 4: Evaluate your model (on the test set).\n",
    "print(model.evaluate(X_test, y_test))"
   ]
  },
  {
   "cell_type": "code",
   "execution_count": 21,
   "metadata": {
    "colab": {
     "base_uri": "https://localhost:8080/",
     "height": 498
    },
    "id": "pcSvHrAFbVR4",
    "outputId": "2eff2dea-0253-4392-c0a2-5a0ac755294d"
   },
   "outputs": [
    {
     "name": "stdout",
     "output_type": "stream",
     "text": [
      "Confusion matrix, without normalization\n",
      "[[ 957    0    0    1    1    2    4    1   14    0]\n",
      " [   0 1113    4    1    2    2    1    0   12    0]\n",
      " [   3    3  971    4    3    1    3    7   35    2]\n",
      " [   0    0   13  958    0    7    0    2   26    4]\n",
      " [   0    1   33    0  866    0    7    2   30   43]\n",
      " [   3    0    5   28    1  820    7    0   26    2]\n",
      " [   7    3    1    0    4   10  916    1   16    0]\n",
      " [   2    4   21    4    0    0    0  972   12   13]\n",
      " [   4    0    8    3    7    9    3    1  938    1]\n",
      " [   3    7    1    9   12    6    0    5   76  890]]\n"
     ]
    },
    {
     "data": {
      "image/png": "[encoded data removed]",
      "text/plain": [
       "<Figure size 432x288 with 2 Axes>"
      ]
     },
     "metadata": {
      "needs_background": "light"
     },
     "output_type": "display_data"
    }
   ],
   "source": [
    "# STEP 4a: Deeper evaluate your model.\n",
    "# Plot confusion matrix (cm)\n",
    "\"\"\"\n",
    "Check more 'cm' templates at:\n",
    "https://www.kaggle.com/grfiv4/plot-a-confusion-matrix\n",
    "                     or\n",
    "https://stackoverflow.com/questions/35572000/how-can-i-plot-a-confusion-matrix\n",
    "\"\"\"\n",
    "def plot_confusion_matrix(cm, classes,\n",
    "                          normalize=False,\n",
    "                          title='Confusion matrix',\n",
    "                          cmap=plt.cm.Blues):\n",
    "  \"\"\"\n",
    "  This function prints and plots the confusion matrix.\n",
    "  Normalization can be applied by setting `normalize=True`.\n",
    "  \"\"\"\n",
    "  if normalize:\n",
    "      cm = cm.astype('float') / cm.sum(axis=1)[:, np.newaxis]\n",
    "      print(\"Normalized confusion matrix\")\n",
    "  else:\n",
    "      print('Confusion matrix, without normalization')\n",
    "\n",
    "  print(cm)\n",
    "\n",
    "  plt.imshow(cm, interpolation='nearest', cmap=cmap)\n",
    "  plt.title(title)\n",
    "  plt.colorbar()\n",
    "  tick_marks = np.arange(len(classes))\n",
    "  plt.xticks(tick_marks, classes, rotation=45)\n",
    "  plt.yticks(tick_marks, classes)\n",
    "\n",
    "  fmt = '.2f' if normalize else 'd'\n",
    "  thresh = cm.max() / 2.\n",
    "  for i, j in itertools.product(range(cm.shape[0]), range(cm.shape[1])):\n",
    "      plt.text(j, i, format(cm[i, j], fmt),\n",
    "               horizontalalignment=\"center\",\n",
    "               color=\"white\" if cm[i, j] > thresh else \"black\")\n",
    "\n",
    "  plt.tight_layout()\n",
    "  plt.ylabel('True label')\n",
    "  plt.xlabel('Predicted label')\n",
    "  plt.show()\n",
    "\n",
    "\n",
    "p_test = model.predict(X_test).argmax(axis=1)\n",
    "cm = confusion_matrix(y_test, p_test)\n",
    "plot_confusion_matrix(cm, list(range(10)))\n",
    "\n"
   ]
  },
  {
   "cell_type": "code",
   "execution_count": 29,
   "metadata": {
    "colab": {
     "base_uri": "https://localhost:8080/",
     "height": 281
    },
    "id": "QyTLFozCbWtd",
    "outputId": "cbe4e03e-0e19-4971-a762-7b48c5bf4031"
   },
   "outputs": [
    {
     "data": {
      "image/png": "[encoded data removed]",
      "text/plain": [
       "<Figure size 432x288 with 1 Axes>"
      ]
     },
     "metadata": {
      "needs_background": "light"
     },
     "output_type": "display_data"
    }
   ],
   "source": [
    "# Show some misclassified examples\n",
    "misclassified_idx = np.where(p_test != y_test)[0]\n",
    "i = np.random.choice(misclassified_idx)\n",
    "plt.imshow(X_test[i], cmap='gray')\n",
    "plt.title(\"True label: %s Predicted: %s\" % (y_test[i], p_test[i]));\n",
    "# Would you misclassify the example as well? If not, move to CNN example."
   ]
  },
  {
   "cell_type": "code",
   "execution_count": null,
   "metadata": {},
   "outputs": [],
   "source": []
  }
 ],
 "metadata": {
  "accelerator": "GPU",
  "colab": {
   "collapsed_sections": [],
   "name": "Copy of TF2.0 ANN MNIST.ipynb",
   "provenance": []
  },
  "kernelspec": {
   "display_name": "Python 3",
   "language": "python",
   "name": "python3"
  },
  "language_info": {
   "codemirror_mode": {
    "name": "ipython",
    "version": 3
   },
   "file_extension": ".py",
   "mimetype": "text/x-python",
   "name": "python",
   "nbconvert_exporter": "python",
   "pygments_lexer": "ipython3",
   "version": "3.6.9"
  }
 },
 "nbformat": 4,
 "nbformat_minor": 1
}
